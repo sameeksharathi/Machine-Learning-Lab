{
 "cells": [
  {
   "cell_type": "markdown",
   "metadata": {},
   "source": [
    "# Linear Regression from Sklearn"
   ]
  },
  {
   "cell_type": "code",
   "execution_count": 1,
   "metadata": {},
   "outputs": [],
   "source": [
    "import numpy as np\n",
    "import pandas as pd"
   ]
  },
  {
   "cell_type": "code",
   "execution_count": 2,
   "metadata": {},
   "outputs": [],
   "source": [
    "df = pd.read_csv('share.csv')"
   ]
  },
  {
   "cell_type": "code",
   "execution_count": 3,
   "metadata": {},
   "outputs": [
    {
     "data": {
      "text/html": [
       "<div>\n",
       "<style scoped>\n",
       "    .dataframe tbody tr th:only-of-type {\n",
       "        vertical-align: middle;\n",
       "    }\n",
       "\n",
       "    .dataframe tbody tr th {\n",
       "        vertical-align: top;\n",
       "    }\n",
       "\n",
       "    .dataframe thead th {\n",
       "        text-align: right;\n",
       "    }\n",
       "</style>\n",
       "<table border=\"1\" class=\"dataframe\">\n",
       "  <thead>\n",
       "    <tr style=\"text-align: right;\">\n",
       "      <th></th>\n",
       "      <th>County</th>\n",
       "      <th>FIPS</th>\n",
       "      <th>Met Objective of 45.5? (1)</th>\n",
       "      <th>Age-Adjusted Death Rate</th>\n",
       "      <th>Lower 95% Confidence Interval for Death Rate</th>\n",
       "      <th>Upper 95% Confidence Interval for Death Rate</th>\n",
       "      <th>Average Deaths per Year</th>\n",
       "      <th>Recent Trend (2)</th>\n",
       "      <th>Recent 5-Year Trend (2) in Death Rates</th>\n",
       "      <th>Lower 95% Confidence Interval for Trend</th>\n",
       "      <th>Upper 95% Confidence Interval for Trend</th>\n",
       "    </tr>\n",
       "  </thead>\n",
       "  <tbody>\n",
       "    <tr>\n",
       "      <td>0</td>\n",
       "      <td>United States</td>\n",
       "      <td>0</td>\n",
       "      <td>No</td>\n",
       "      <td>46</td>\n",
       "      <td>45.9</td>\n",
       "      <td>46.1</td>\n",
       "      <td>1,57,376</td>\n",
       "      <td>falling</td>\n",
       "      <td>-2.4</td>\n",
       "      <td>-2.6</td>\n",
       "      <td>-2.2</td>\n",
       "    </tr>\n",
       "    <tr>\n",
       "      <td>1</td>\n",
       "      <td>Perry County, Kentucky</td>\n",
       "      <td>21193</td>\n",
       "      <td>No</td>\n",
       "      <td>125.6</td>\n",
       "      <td>108.9</td>\n",
       "      <td>144.2</td>\n",
       "      <td>43</td>\n",
       "      <td>stable</td>\n",
       "      <td>-0.6</td>\n",
       "      <td>-2.7</td>\n",
       "      <td>1.6</td>\n",
       "    </tr>\n",
       "    <tr>\n",
       "      <td>2</td>\n",
       "      <td>Powell County, Kentucky</td>\n",
       "      <td>21197</td>\n",
       "      <td>No</td>\n",
       "      <td>125.3</td>\n",
       "      <td>100.2</td>\n",
       "      <td>155.1</td>\n",
       "      <td>18</td>\n",
       "      <td>stable</td>\n",
       "      <td>1.7</td>\n",
       "      <td>0</td>\n",
       "      <td>3.4</td>\n",
       "    </tr>\n",
       "    <tr>\n",
       "      <td>3</td>\n",
       "      <td>North Slope Borough, Alaska</td>\n",
       "      <td>2185</td>\n",
       "      <td>No</td>\n",
       "      <td>124.9</td>\n",
       "      <td>73</td>\n",
       "      <td>194.7</td>\n",
       "      <td>5</td>\n",
       "      <td>**</td>\n",
       "      <td>**</td>\n",
       "      <td>**</td>\n",
       "      <td>**</td>\n",
       "    </tr>\n",
       "    <tr>\n",
       "      <td>4</td>\n",
       "      <td>Owsley County, Kentucky</td>\n",
       "      <td>21189</td>\n",
       "      <td>No</td>\n",
       "      <td>118.5</td>\n",
       "      <td>83.1</td>\n",
       "      <td>165.5</td>\n",
       "      <td>8</td>\n",
       "      <td>stable</td>\n",
       "      <td>2.2</td>\n",
       "      <td>-0.4</td>\n",
       "      <td>4.8</td>\n",
       "    </tr>\n",
       "  </tbody>\n",
       "</table>\n",
       "</div>"
      ],
      "text/plain": [
       "                        County   FIPS Met Objective of 45.5? (1)  \\\n",
       "0                United States      0                         No   \n",
       "1       Perry County, Kentucky  21193                         No   \n",
       "2      Powell County, Kentucky  21197                         No   \n",
       "3  North Slope Borough, Alaska   2185                         No   \n",
       "4      Owsley County, Kentucky  21189                         No   \n",
       "\n",
       "  Age-Adjusted Death Rate Lower 95% Confidence Interval for Death Rate  \\\n",
       "0                      46                                         45.9   \n",
       "1                   125.6                                        108.9   \n",
       "2                   125.3                                        100.2   \n",
       "3                   124.9                                           73   \n",
       "4                   118.5                                         83.1   \n",
       "\n",
       "  Upper 95% Confidence Interval for Death Rate Average Deaths per Year  \\\n",
       "0                                         46.1                1,57,376   \n",
       "1                                        144.2                      43   \n",
       "2                                        155.1                      18   \n",
       "3                                        194.7                       5   \n",
       "4                                        165.5                       8   \n",
       "\n",
       "  Recent Trend (2) Recent 5-Year Trend (2) in Death Rates  \\\n",
       "0          falling                                   -2.4   \n",
       "1           stable                                   -0.6   \n",
       "2           stable                                    1.7   \n",
       "3               **                                     **   \n",
       "4           stable                                    2.2   \n",
       "\n",
       "  Lower 95% Confidence Interval for Trend  \\\n",
       "0                                    -2.6   \n",
       "1                                    -2.7   \n",
       "2                                       0   \n",
       "3                                      **   \n",
       "4                                    -0.4   \n",
       "\n",
       "  Upper 95% Confidence Interval for Trend  \n",
       "0                                    -2.2  \n",
       "1                                     1.6  \n",
       "2                                     3.4  \n",
       "3                                      **  \n",
       "4                                     4.8  "
      ]
     },
     "execution_count": 3,
     "metadata": {},
     "output_type": "execute_result"
    }
   ],
   "source": [
    "df.head()"
   ]
  },
  {
   "cell_type": "code",
   "execution_count": 17,
   "metadata": {},
   "outputs": [],
   "source": [
    "X = df['Age-Adjusted Death Rate'][:2813].values\n",
    "y = df['Lower 95% Confidence Interval for Death Rate'][:2813].values"
   ]
  },
  {
   "cell_type": "code",
   "execution_count": 21,
   "metadata": {},
   "outputs": [],
   "source": [
    "X = np.array([float(i) for i in X]).reshape((len(X),1))\n",
    "y = np.array([float(i) for i in y]).reshape((len(X),1))"
   ]
  },
  {
   "cell_type": "code",
   "execution_count": 9,
   "metadata": {},
   "outputs": [],
   "source": [
    "from sklearn.linear_model import LinearRegression"
   ]
  },
  {
   "cell_type": "code",
   "execution_count": 10,
   "metadata": {},
   "outputs": [],
   "source": [
    "lr = LinearRegression()"
   ]
  },
  {
   "cell_type": "code",
   "execution_count": 22,
   "metadata": {},
   "outputs": [
    {
     "data": {
      "text/plain": [
       "LinearRegression(copy_X=True, fit_intercept=True, n_jobs=None, normalize=False)"
      ]
     },
     "execution_count": 22,
     "metadata": {},
     "output_type": "execute_result"
    }
   ],
   "source": [
    "lr.fit(X,y)"
   ]
  },
  {
   "cell_type": "code",
   "execution_count": 23,
   "metadata": {},
   "outputs": [
    {
     "data": {
      "text/plain": [
       "array([-0.44768269])"
      ]
     },
     "execution_count": 23,
     "metadata": {},
     "output_type": "execute_result"
    }
   ],
   "source": [
    "lr.intercept_"
   ]
  },
  {
   "cell_type": "code",
   "execution_count": 24,
   "metadata": {},
   "outputs": [
    {
     "data": {
      "text/plain": [
       "array([[0.81306259]])"
      ]
     },
     "execution_count": 24,
     "metadata": {},
     "output_type": "execute_result"
    }
   ],
   "source": [
    "lr.coef_"
   ]
  },
  {
   "cell_type": "code",
   "execution_count": 26,
   "metadata": {},
   "outputs": [],
   "source": [
    "y_pred = lr.predict(X)"
   ]
  },
  {
   "cell_type": "code",
   "execution_count": 41,
   "metadata": {},
   "outputs": [],
   "source": [
    "from sklearn.metrics import mean_squared_error, confusion_matrix"
   ]
  },
  {
   "cell_type": "code",
   "execution_count": 37,
   "metadata": {},
   "outputs": [
    {
     "data": {
      "text/plain": [
       "0.8484177930485514"
      ]
     },
     "execution_count": 37,
     "metadata": {},
     "output_type": "execute_result"
    }
   ],
   "source": [
    "r2 = lr.score(X,y)\n",
    "r2"
   ]
  },
  {
   "cell_type": "code",
   "execution_count": 38,
   "metadata": {},
   "outputs": [
    {
     "data": {
      "text/plain": [
       "23.25384508222062"
      ]
     },
     "execution_count": 38,
     "metadata": {},
     "output_type": "execute_result"
    }
   ],
   "source": [
    "mse = mean_squared_error(y,y_pred)\n",
    "mse"
   ]
  },
  {
   "cell_type": "code",
   "execution_count": 39,
   "metadata": {},
   "outputs": [],
   "source": [
    "rmse = np.sqrt(mse)"
   ]
  },
  {
   "cell_type": "code",
   "execution_count": 40,
   "metadata": {},
   "outputs": [
    {
     "data": {
      "text/plain": [
       "4.822224080465426"
      ]
     },
     "execution_count": 40,
     "metadata": {},
     "output_type": "execute_result"
    }
   ],
   "source": [
    "rmse"
   ]
  },
  {
   "cell_type": "code",
   "execution_count": null,
   "metadata": {},
   "outputs": [],
   "source": []
  }
 ],
 "metadata": {
  "kernelspec": {
   "display_name": "Python 3",
   "language": "python",
   "name": "python3"
  },
  "language_info": {
   "codemirror_mode": {
    "name": "ipython",
    "version": 3
   },
   "file_extension": ".py",
   "mimetype": "text/x-python",
   "name": "python",
   "nbconvert_exporter": "python",
   "pygments_lexer": "ipython3",
   "version": "3.7.4"
  }
 },
 "nbformat": 4,
 "nbformat_minor": 2
}
