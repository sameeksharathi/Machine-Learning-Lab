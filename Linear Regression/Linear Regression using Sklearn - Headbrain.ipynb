{
 "cells": [
  {
   "cell_type": "markdown",
   "metadata": {},
   "source": [
    "# Linear Regression using Sklearn"
   ]
  },
  {
   "cell_type": "code",
   "execution_count": 1,
   "metadata": {},
   "outputs": [],
   "source": [
    "import numpy as np\n",
    "import pandas as pd"
   ]
  },
  {
   "cell_type": "code",
   "execution_count": 2,
   "metadata": {},
   "outputs": [],
   "source": [
    "df = pd.read_csv(\"headbrain.csv\")"
   ]
  },
  {
   "cell_type": "code",
   "execution_count": 3,
   "metadata": {},
   "outputs": [
    {
     "data": {
      "text/html": [
       "<div>\n",
       "<style scoped>\n",
       "    .dataframe tbody tr th:only-of-type {\n",
       "        vertical-align: middle;\n",
       "    }\n",
       "\n",
       "    .dataframe tbody tr th {\n",
       "        vertical-align: top;\n",
       "    }\n",
       "\n",
       "    .dataframe thead th {\n",
       "        text-align: right;\n",
       "    }\n",
       "</style>\n",
       "<table border=\"1\" class=\"dataframe\">\n",
       "  <thead>\n",
       "    <tr style=\"text-align: right;\">\n",
       "      <th></th>\n",
       "      <th>Gender</th>\n",
       "      <th>Age Range</th>\n",
       "      <th>Head Size(cm^3)</th>\n",
       "      <th>Brain Weight(grams)</th>\n",
       "    </tr>\n",
       "  </thead>\n",
       "  <tbody>\n",
       "    <tr>\n",
       "      <td>0</td>\n",
       "      <td>1</td>\n",
       "      <td>1</td>\n",
       "      <td>4512</td>\n",
       "      <td>1530</td>\n",
       "    </tr>\n",
       "    <tr>\n",
       "      <td>1</td>\n",
       "      <td>1</td>\n",
       "      <td>1</td>\n",
       "      <td>3738</td>\n",
       "      <td>1297</td>\n",
       "    </tr>\n",
       "    <tr>\n",
       "      <td>2</td>\n",
       "      <td>1</td>\n",
       "      <td>1</td>\n",
       "      <td>4261</td>\n",
       "      <td>1335</td>\n",
       "    </tr>\n",
       "    <tr>\n",
       "      <td>3</td>\n",
       "      <td>1</td>\n",
       "      <td>1</td>\n",
       "      <td>3777</td>\n",
       "      <td>1282</td>\n",
       "    </tr>\n",
       "    <tr>\n",
       "      <td>4</td>\n",
       "      <td>1</td>\n",
       "      <td>1</td>\n",
       "      <td>4177</td>\n",
       "      <td>1590</td>\n",
       "    </tr>\n",
       "  </tbody>\n",
       "</table>\n",
       "</div>"
      ],
      "text/plain": [
       "   Gender  Age Range  Head Size(cm^3)  Brain Weight(grams)\n",
       "0       1          1             4512                 1530\n",
       "1       1          1             3738                 1297\n",
       "2       1          1             4261                 1335\n",
       "3       1          1             3777                 1282\n",
       "4       1          1             4177                 1590"
      ]
     },
     "execution_count": 3,
     "metadata": {},
     "output_type": "execute_result"
    }
   ],
   "source": [
    "df.head()"
   ]
  },
  {
   "cell_type": "code",
   "execution_count": 16,
   "metadata": {},
   "outputs": [],
   "source": [
    "X = df['Head Size(cm^3)'].values.reshape((len(X),1))\n",
    "y = df['Brain Weight(grams)'].values.reshape((len(X),1))"
   ]
  },
  {
   "cell_type": "code",
   "execution_count": 9,
   "metadata": {},
   "outputs": [],
   "source": [
    "from sklearn.linear_model import LinearRegression"
   ]
  },
  {
   "cell_type": "code",
   "execution_count": 10,
   "metadata": {},
   "outputs": [],
   "source": [
    "lr = LinearRegression()"
   ]
  },
  {
   "cell_type": "code",
   "execution_count": 19,
   "metadata": {},
   "outputs": [
    {
     "data": {
      "text/plain": [
       "LinearRegression(copy_X=True, fit_intercept=True, n_jobs=None, normalize=False)"
      ]
     },
     "execution_count": 19,
     "metadata": {},
     "output_type": "execute_result"
    }
   ],
   "source": [
    "lr.fit(X,y)"
   ]
  },
  {
   "cell_type": "code",
   "execution_count": 20,
   "metadata": {},
   "outputs": [
    {
     "data": {
      "text/plain": [
       "array([325.57342105])"
      ]
     },
     "execution_count": 20,
     "metadata": {},
     "output_type": "execute_result"
    }
   ],
   "source": [
    "lr.intercept_"
   ]
  },
  {
   "cell_type": "code",
   "execution_count": 21,
   "metadata": {},
   "outputs": [
    {
     "data": {
      "text/plain": [
       "array([[0.26342934]])"
      ]
     },
     "execution_count": 21,
     "metadata": {},
     "output_type": "execute_result"
    }
   ],
   "source": [
    "lr.coef_"
   ]
  },
  {
   "cell_type": "code",
   "execution_count": 22,
   "metadata": {},
   "outputs": [],
   "source": [
    "y_pred = lr.predict(X)"
   ]
  },
  {
   "cell_type": "code",
   "execution_count": 23,
   "metadata": {},
   "outputs": [
    {
     "data": {
      "text/plain": [
       "array([[1514.16660083],\n",
       "       [1310.27229206],\n",
       "       [1448.04583661],\n",
       "       [1320.5460363 ],\n",
       "       [1425.9177721 ],\n",
       "       [1269.96760312],\n",
       "       [1322.65347102],\n",
       "       [1263.11844029],\n",
       "       [1277.34362462],\n",
       "       [1374.5490509 ],\n",
       "       [1232.56063691],\n",
       "       [1377.44677363],\n",
       "       [1284.45621679],\n",
       "       [1434.08408162],\n",
       "       [1335.03464997],\n",
       "       [1346.62554091],\n",
       "       [1246.78582124],\n",
       "       [1238.61951172],\n",
       "       [1140.88722677],\n",
       "       [1490.98481895],\n",
       "       [1347.15239959],\n",
       "       [1391.40852862],\n",
       "       [1327.65862847],\n",
       "       [1302.89627056],\n",
       "       [1576.07249561],\n",
       "       [1490.72138961],\n",
       "       [1388.77423523],\n",
       "       [1385.08622448],\n",
       "       [1235.45835965],\n",
       "       [1425.39091342],\n",
       "       [1323.1803297 ],\n",
       "       [1325.55119375],\n",
       "       [1406.42400097],\n",
       "       [1421.70290266],\n",
       "       [1420.91261465],\n",
       "       [1330.29292186],\n",
       "       [1254.68870143],\n",
       "       [1312.90658546],\n",
       "       [1203.84683891],\n",
       "       [1245.46867455],\n",
       "       [1369.28046411],\n",
       "       [1248.89325596],\n",
       "       [1462.27102095],\n",
       "       [1327.65862847],\n",
       "       [1343.2009595 ],\n",
       "       [1388.24737655],\n",
       "       [1460.42701557],\n",
       "       [1159.32728053],\n",
       "       [1284.71964613],\n",
       "       [1285.50993415],\n",
       "       [1350.576981  ],\n",
       "       [1324.76090573],\n",
       "       [1450.41670067],\n",
       "       [1395.88682739],\n",
       "       [1382.45193108],\n",
       "       [1236.512077  ],\n",
       "       [1350.31355166],\n",
       "       [1423.02004936],\n",
       "       [1362.16787194],\n",
       "       [1292.09566764],\n",
       "       [1343.99124752],\n",
       "       [1219.38916994],\n",
       "       [1495.72654706],\n",
       "       [1445.9384019 ],\n",
       "       [1307.37456933],\n",
       "       [1202.52969221],\n",
       "       [1225.18461541],\n",
       "       [1213.85715381],\n",
       "       [1492.56539499],\n",
       "       [1479.65735735],\n",
       "       [1381.39821372],\n",
       "       [1341.8838128 ],\n",
       "       [1411.16572909],\n",
       "       [1394.30625136],\n",
       "       [1332.92721526],\n",
       "       [1219.65259928],\n",
       "       [1262.85501095],\n",
       "       [1211.22286041],\n",
       "       [1360.85072524],\n",
       "       [1335.82493799],\n",
       "       [1334.50779129],\n",
       "       [1341.35695412],\n",
       "       [1181.45534505],\n",
       "       [1267.8601684 ],\n",
       "       [1361.64101326],\n",
       "       [1339.77637808],\n",
       "       [1197.26110542],\n",
       "       [1222.81375135],\n",
       "       [1249.1566853 ],\n",
       "       [1354.79185043],\n",
       "       [1421.43947333],\n",
       "       [1199.63196948],\n",
       "       [1290.25166226],\n",
       "       [1352.68441572],\n",
       "       [1300.26197716],\n",
       "       [1321.07289498],\n",
       "       [1240.4635171 ],\n",
       "       [1244.94181587],\n",
       "       [1288.14422754],\n",
       "       [1241.78066379],\n",
       "       [1246.25896256],\n",
       "       [1335.56150865],\n",
       "       [1346.62554091],\n",
       "       [1289.98823292],\n",
       "       [1278.66077132],\n",
       "       [1286.56365151],\n",
       "       [1387.72051787],\n",
       "       [1220.96974597],\n",
       "       [1357.16271449],\n",
       "       [1492.56539499],\n",
       "       [1298.94483046],\n",
       "       [1253.89841341],\n",
       "       [1266.27959237],\n",
       "       [1272.33846717],\n",
       "       [1216.75487654],\n",
       "       [1247.31267992],\n",
       "       [1271.02132048],\n",
       "       [1352.94784506],\n",
       "       [1409.32172371],\n",
       "       [1362.69473062],\n",
       "       [1220.96974597],\n",
       "       [1431.9766469 ],\n",
       "       [1507.84429668],\n",
       "       [1277.60705396],\n",
       "       [1392.72567532],\n",
       "       [1321.863183  ],\n",
       "       [1218.86231126],\n",
       "       [1148.52667761],\n",
       "       [1393.252534  ],\n",
       "       [1269.1773151 ],\n",
       "       [1291.30537962],\n",
       "       [1256.00584813],\n",
       "       [1391.40852862],\n",
       "       [1291.56880896],\n",
       "       [1078.19104397],\n",
       "       [1230.71663154],\n",
       "       [1324.23404705],\n",
       "       [1195.41710004],\n",
       "       [1143.25809082],\n",
       "       [1160.90785657],\n",
       "       [1266.54302171],\n",
       "       [1255.47898945],\n",
       "       [1161.96157393],\n",
       "       [1231.24349021],\n",
       "       [1353.73813308],\n",
       "       [1352.68441572],\n",
       "       [1221.49660465],\n",
       "       [1186.19707316],\n",
       "       [1234.66807163],\n",
       "       [1139.57008007],\n",
       "       [1224.65775673],\n",
       "       [1200.94911617],\n",
       "       [1294.99339037],\n",
       "       [1231.50691955],\n",
       "       [1340.5666661 ],\n",
       "       [1156.95641648],\n",
       "       [1189.35822524],\n",
       "       [1302.10598254],\n",
       "       [1380.87135504],\n",
       "       [1186.72393184],\n",
       "       [1134.56492262],\n",
       "       [1321.07289498],\n",
       "       [1260.22071756],\n",
       "       [1192.78280665],\n",
       "       [1246.78582124],\n",
       "       [1137.46264536],\n",
       "       [1181.19191571],\n",
       "       [1210.16914305],\n",
       "       [1327.39519913],\n",
       "       [1264.96244567],\n",
       "       [1154.05869374],\n",
       "       [1248.36639728],\n",
       "       [1266.27959237],\n",
       "       [1306.58428131],\n",
       "       [1277.8704833 ],\n",
       "       [1169.33759543],\n",
       "       [1276.28990727],\n",
       "       [1263.64529897],\n",
       "       [1373.75876288],\n",
       "       [1256.26927747],\n",
       "       [1297.36425443],\n",
       "       [1157.48327516],\n",
       "       [1380.6079257 ],\n",
       "       [1163.54214997],\n",
       "       [1242.04409313],\n",
       "       [1284.98307547],\n",
       "       [1282.34878207],\n",
       "       [1134.03806394],\n",
       "       [1219.65259928],\n",
       "       [1301.05226518],\n",
       "       [1159.32728053],\n",
       "       [1209.1154257 ],\n",
       "       [1115.86143952],\n",
       "       [1296.83739575],\n",
       "       [1262.32815227],\n",
       "       [1056.06297945],\n",
       "       [1131.14034121],\n",
       "       [1206.4811323 ],\n",
       "       [1245.73210389],\n",
       "       [1194.09995335],\n",
       "       [1210.69600173],\n",
       "       [1175.92332892],\n",
       "       [1188.83136656],\n",
       "       [1340.03980742],\n",
       "       [1133.51120526],\n",
       "       [1298.15454244],\n",
       "       [1221.76003399],\n",
       "       [1377.97363231],\n",
       "       [1199.63196948],\n",
       "       [1042.10122446],\n",
       "       [1099.26539113],\n",
       "       [1268.65045642],\n",
       "       [1099.79224981],\n",
       "       [1112.96371678],\n",
       "       [1270.23103246],\n",
       "       [1156.95641648],\n",
       "       [1180.66505703],\n",
       "       [1160.64442723],\n",
       "       [1186.4605025 ],\n",
       "       [1218.33545258],\n",
       "       [1216.22801786],\n",
       "       [1080.03504935],\n",
       "       [1310.79915074],\n",
       "       [1242.04409313],\n",
       "       [1286.30022217],\n",
       "       [1304.47684659],\n",
       "       [1190.67537193],\n",
       "       [1433.03036426],\n",
       "       [1309.48200404],\n",
       "       [1173.28903553],\n",
       "       [1296.31053707],\n",
       "       [1301.31569452],\n",
       "       [1172.23531817],\n",
       "       [1219.65259928],\n",
       "       [1177.24047562],\n",
       "       [1208.58856702],\n",
       "       [1218.86231126]])"
      ]
     },
     "execution_count": 23,
     "metadata": {},
     "output_type": "execute_result"
    }
   ],
   "source": [
    "y_pred"
   ]
  },
  {
   "cell_type": "code",
   "execution_count": 26,
   "metadata": {},
   "outputs": [],
   "source": [
    "from sklearn.metrics import mean_squared_error"
   ]
  },
  {
   "cell_type": "code",
   "execution_count": 43,
   "metadata": {},
   "outputs": [
    {
     "data": {
      "text/plain": [
       "0.639311719957"
      ]
     },
     "execution_count": 43,
     "metadata": {},
     "output_type": "execute_result"
    }
   ],
   "source": [
    "r2 = lr.score(X,y)                            # This is R2 or score\n",
    "r2"
   ]
  },
  {
   "cell_type": "code",
   "execution_count": 30,
   "metadata": {},
   "outputs": [],
   "source": [
    "mse = mean_squared_error(y, y_pred)"
   ]
  },
  {
   "cell_type": "code",
   "execution_count": 31,
   "metadata": {},
   "outputs": [],
   "source": [
    "rmse =np.sqrt(mse)"
   ]
  },
  {
   "cell_type": "code",
   "execution_count": 32,
   "metadata": {},
   "outputs": [
    {
     "data": {
      "text/plain": [
       "72.1206213783709"
      ]
     },
     "execution_count": 32,
     "metadata": {},
     "output_type": "execute_result"
    }
   ],
   "source": [
    "rmse"
   ]
  },
  {
   "cell_type": "code",
   "execution_count": 33,
   "metadata": {},
   "outputs": [],
   "source": [
    "import matplotlib.pyplot as plt"
   ]
  },
  {
   "cell_type": "code",
   "execution_count": 39,
   "metadata": {},
   "outputs": [
    {
     "data": {
      "text/plain": [
       "array([[1514.16660083]])"
      ]
     },
     "execution_count": 39,
     "metadata": {},
     "output_type": "execute_result"
    }
   ],
   "source": [
    "y1 = lr.intercept_ + lr.coef_*X[0]\n",
    "y1"
   ]
  },
  {
   "cell_type": "code",
   "execution_count": 40,
   "metadata": {},
   "outputs": [
    {
     "data": {
      "text/plain": [
       "<matplotlib.collections.PathCollection at 0x21643648c88>"
      ]
     },
     "execution_count": 40,
     "metadata": {},
     "output_type": "execute_result"
    },
    {
     "data": {
      "image/png": "[encoded data removed]",
      "text/plain": [
       "<Figure size 432x288 with 1 Axes>"
      ]
     },
     "metadata": {
      "needs_background": "light"
     },
     "output_type": "display_data"
    }
   ],
   "source": [
    "plt.scatter(X,y)"
   ]
  },
  {
   "cell_type": "code",
   "execution_count": 41,
   "metadata": {},
   "outputs": [],
   "source": [
    "# It is not necessary to split the data into train and test data in Linear Regression"
   ]
  },
  {
   "cell_type": "code",
   "execution_count": null,
   "metadata": {},
   "outputs": [],
   "source": []
  }
 ],
 "metadata": {
  "kernelspec": {
   "display_name": "Python 3",
   "language": "python",
   "name": "python3"
  },
  "language_info": {
   "codemirror_mode": {
    "name": "ipython",
    "version": 3
   },
   "file_extension": ".py",
   "mimetype": "text/x-python",
   "name": "python",
   "nbconvert_exporter": "python",
   "pygments_lexer": "ipython3",
   "version": "3.7.4"
  }
 },
 "nbformat": 4,
 "nbformat_minor": 2
}
