{
 "cells": [
  {
   "cell_type": "markdown",
   "metadata": {},
   "source": [
    "# Python Strings\n",
    "### Python allows for either pairs of single or double quotes.\n",
    "\n",
    "### Substrings of strings can be taken using slice operator with indexes starting at 0 in the beginning of the string and working their way from -1 at the end.\n",
    "### The + sign is the string concatenation operator and the * is the repetition operator."
   ]
  },
  {
   "cell_type": "code",
   "execution_count": 1,
   "metadata": {},
   "outputs": [
    {
     "name": "stdout",
     "output_type": "stream",
     "text": [
      "a\tb\n",
      "aaa\n",
      "a\n",
      "b\n",
      "→ →\n",
      "A\n",
      "65\n"
     ]
    }
   ],
   "source": [
    "print(\"a\\tb\") # a b\n",
    "print(\"a\\141\\x61\") # aaa(ASCII)\n",
    "print(\"a\\nb\") # ab (New Line)\n",
    "print('\\u2192 \\N{rightwards arrow}') #→ →\n",
    "print(chr(65))\n",
    "print(ord('A'))"
   ]
  },
  {
   "cell_type": "markdown",
   "metadata": {},
   "source": [
    "# Python Lists"
   ]
  },
  {
   "cell_type": "markdown",
   "metadata": {},
   "source": [
    "### List is an ordered sequence of items"
   ]
  },
  {
   "cell_type": "code",
   "execution_count": 2,
   "metadata": {},
   "outputs": [
    {
     "name": "stdout",
     "output_type": "stream",
     "text": [
      "['xyz', 123, 1.23, 'RAM', 17.5]\n",
      "xyz\n",
      "[123, 1.23]\n",
      "[1.23, 'RAM', 17.5]\n",
      "[123, 'RAM', 123, 'RAM']\n",
      "['xyz', 123, 1.23, 'RAM', 17.5, 123, 'RAM']\n",
      "list[3:] =  ['RAM', 17.5, 'Dr Neeraj Gupta']\n"
     ]
    }
   ],
   "source": [
    "list = [ 'xyz', 123, 1.23, 'RAM', 17.5 ]\n",
    "tinylist= [123, 'RAM']\n",
    "print(list) # Prints complete list\n",
    "print(list[0]) # Prints first element of the list\n",
    "print(list[1:3]) # Prints elements starting from 2nd till 3rd\n",
    "print(list[2:]) # Prints elements starting from 3rd element\n",
    "print(tinylist* 2) # Prints list two times\n",
    "print(list + tinylist) # Prints concatenated lists\n",
    "list.append(\"Dr Neeraj Gupta\") #Applicable\n",
    "print(\"list[3:] = \", list[3:])\n",
    "tinylist.insert(1, \"Abhishek\") # To add new value"
   ]
  },
  {
   "cell_type": "markdown",
   "metadata": {},
   "source": [
    "# Python Tuples"
   ]
  },
  {
   "cell_type": "markdown",
   "metadata": {},
   "source": [
    "### Lists are enclosed in [] and their elements and size can be changed.\n",
    "\n",
    "### While tuples are enclosed () and cannot be changed.\n",
    "\n",
    "### Tuples are read only."
   ]
  },
  {
   "cell_type": "code",
   "execution_count": 3,
   "metadata": {},
   "outputs": [
    {
     "name": "stdout",
     "output_type": "stream",
     "text": [
      "('xyz', 123, 1.23, 'RAM', 17.5)\n",
      "xyz\n",
      "(123, 1.23)\n",
      "(1.23, 'RAM', 17.5)\n",
      "(123, 'RAM', 123, 'RAM')\n",
      "('xyz', 123, 1.23, 'RAM', 17.5, 123, 'RAM')\n"
     ]
    },
    {
     "ename": "AttributeError",
     "evalue": "'tuple' object has no attribute 'append'",
     "output_type": "error",
     "traceback": [
      "\u001b[1;31m---------------------------------------------------------------------------\u001b[0m",
      "\u001b[1;31mAttributeError\u001b[0m                            Traceback (most recent call last)",
      "\u001b[1;32m<ipython-input-3-78a8f1cc5546>\u001b[0m in \u001b[0;36m<module>\u001b[1;34m\u001b[0m\n\u001b[0;32m      7\u001b[0m \u001b[0mprint\u001b[0m\u001b[1;33m(\u001b[0m\u001b[0mtinytuple\u001b[0m\u001b[1;33m*\u001b[0m \u001b[1;36m2\u001b[0m\u001b[1;33m)\u001b[0m \u001b[1;31m# Prints list two times\u001b[0m\u001b[1;33m\u001b[0m\u001b[1;33m\u001b[0m\u001b[0m\n\u001b[0;32m      8\u001b[0m \u001b[0mprint\u001b[0m \u001b[1;33m(\u001b[0m\u001b[0mtuple\u001b[0m \u001b[1;33m+\u001b[0m \u001b[0mtinytuple\u001b[0m\u001b[1;33m)\u001b[0m \u001b[1;31m# Prints concatenated lists\u001b[0m\u001b[1;33m\u001b[0m\u001b[1;33m\u001b[0m\u001b[0m\n\u001b[1;32m----> 9\u001b[1;33m \u001b[0mtuple\u001b[0m\u001b[1;33m.\u001b[0m\u001b[0mappend\u001b[0m\u001b[1;33m(\u001b[0m\u001b[1;34m'Dr Neeraj Gupta'\u001b[0m\u001b[1;33m)\u001b[0m \u001b[1;31m# Not Applicable\u001b[0m\u001b[1;33m\u001b[0m\u001b[1;33m\u001b[0m\u001b[0m\n\u001b[0m",
      "\u001b[1;31mAttributeError\u001b[0m: 'tuple' object has no attribute 'append'"
     ]
    }
   ],
   "source": [
    "tuple = ('xyz', 123, 1.23, 'RAM', 17.5 )\n",
    "tinytuple= (123, 'RAM')\n",
    "print(tuple) # Prints complete list\n",
    "print(tuple[0]) # Prints first element of the list\n",
    "print(tuple[1:3]) # Prints elements starting from 2nd till 3rd\n",
    "print(tuple[2:]) # Prints elements starting from 3rd element\n",
    "print(tinytuple* 2) # Prints list two times\n",
    "print (tuple + tinytuple) # Prints concatenated lists\n",
    "tuple.append('Dr Neeraj Gupta') # Not Applicable"
   ]
  },
  {
   "cell_type": "markdown",
   "metadata": {},
   "source": [
    "# How to modify Tuple Values?"
   ]
  },
  {
   "cell_type": "code",
   "execution_count": 4,
   "metadata": {},
   "outputs": [
    {
     "name": "stdout",
     "output_type": "stream",
     "text": [
      "10\n"
     ]
    },
    {
     "ename": "TypeError",
     "evalue": "'list' object is not callable",
     "output_type": "error",
     "traceback": [
      "\u001b[1;31m---------------------------------------------------------------------------\u001b[0m",
      "\u001b[1;31mTypeError\u001b[0m                                 Traceback (most recent call last)",
      "\u001b[1;32m<ipython-input-4-b4bef59460d4>\u001b[0m in \u001b[0;36m<module>\u001b[1;34m\u001b[0m\n\u001b[0;32m      1\u001b[0m \u001b[0mT1\u001b[0m\u001b[1;33m=\u001b[0m\u001b[1;33m(\u001b[0m\u001b[1;36m10\u001b[0m\u001b[1;33m,\u001b[0m\u001b[1;36m50\u001b[0m\u001b[1;33m,\u001b[0m\u001b[1;36m20\u001b[0m\u001b[1;33m,\u001b[0m\u001b[1;36m9\u001b[0m\u001b[1;33m,\u001b[0m\u001b[1;36m40\u001b[0m\u001b[1;33m,\u001b[0m\u001b[1;36m25\u001b[0m\u001b[1;33m,\u001b[0m\u001b[1;36m60\u001b[0m\u001b[1;33m,\u001b[0m\u001b[1;36m30\u001b[0m\u001b[1;33m,\u001b[0m\u001b[1;36m1\u001b[0m\u001b[1;33m,\u001b[0m\u001b[1;36m56\u001b[0m\u001b[1;33m)\u001b[0m\u001b[1;33m\u001b[0m\u001b[1;33m\u001b[0m\u001b[0m\n\u001b[0;32m      2\u001b[0m \u001b[0mprint\u001b[0m\u001b[1;33m(\u001b[0m\u001b[0mT1\u001b[0m\u001b[1;33m[\u001b[0m\u001b[1;36m0\u001b[0m\u001b[1;33m]\u001b[0m\u001b[1;33m)\u001b[0m\u001b[1;33m\u001b[0m\u001b[1;33m\u001b[0m\u001b[0m\n\u001b[1;32m----> 3\u001b[1;33m \u001b[0mL1\u001b[0m\u001b[1;33m=\u001b[0m\u001b[0mlist\u001b[0m\u001b[1;33m(\u001b[0m\u001b[0mT1\u001b[0m\u001b[1;33m[\u001b[0m\u001b[1;36m0\u001b[0m\u001b[1;33m]\u001b[0m\u001b[1;33m)\u001b[0m\u001b[1;33m\u001b[0m\u001b[1;33m\u001b[0m\u001b[0m\n\u001b[0m\u001b[0;32m      4\u001b[0m \u001b[0mL1\u001b[0m\u001b[1;33m[\u001b[0m\u001b[1;36m5\u001b[0m\u001b[1;33m]\u001b[0m\u001b[1;33m=\u001b[0m\u001b[1;36m100\u001b[0m\u001b[1;33m\u001b[0m\u001b[1;33m\u001b[0m\u001b[0m\n\u001b[0;32m      5\u001b[0m \u001b[0mT1\u001b[0m\u001b[1;33m=\u001b[0m\u001b[0mtuple\u001b[0m\u001b[1;33m(\u001b[0m\u001b[0mL1\u001b[0m\u001b[1;33m)\u001b[0m\u001b[1;33m\u001b[0m\u001b[1;33m\u001b[0m\u001b[0m\n",
      "\u001b[1;31mTypeError\u001b[0m: 'list' object is not callable"
     ]
    }
   ],
   "source": [
    "T1=(10,50,20,9,40,25,60,30,1,56)\n",
    "print(T1[0])\n",
    "L1=list(T1[0])\n",
    "L1[5]=100\n",
    "T1=tuple(L1)\n",
    "T1\n",
    "#convert tuple to list by list()"
   ]
  },
  {
   "cell_type": "code",
   "execution_count": 5,
   "metadata": {},
   "outputs": [
    {
     "ename": "TypeError",
     "evalue": "'tuple' object is not callable",
     "output_type": "error",
     "traceback": [
      "\u001b[1;31m---------------------------------------------------------------------------\u001b[0m",
      "\u001b[1;31mTypeError\u001b[0m                                 Traceback (most recent call last)",
      "\u001b[1;32m<ipython-input-5-8dea7adca1bf>\u001b[0m in \u001b[0;36m<module>\u001b[1;34m\u001b[0m\n\u001b[0;32m      1\u001b[0m \u001b[0mlist1\u001b[0m\u001b[1;33m=\u001b[0m\u001b[1;33m[\u001b[0m\u001b[1;36m1\u001b[0m\u001b[1;33m,\u001b[0m\u001b[1;36m2\u001b[0m\u001b[1;33m,\u001b[0m\u001b[1;36m3\u001b[0m\u001b[1;33m]\u001b[0m\u001b[1;33m\u001b[0m\u001b[1;33m\u001b[0m\u001b[0m\n\u001b[1;32m----> 2\u001b[1;33m \u001b[0mtuple\u001b[0m\u001b[1;33m=\u001b[0m\u001b[0mtuple\u001b[0m\u001b[1;33m(\u001b[0m\u001b[0mlist1\u001b[0m\u001b[1;33m)\u001b[0m\u001b[1;33m\u001b[0m\u001b[1;33m\u001b[0m\u001b[0m\n\u001b[0m",
      "\u001b[1;31mTypeError\u001b[0m: 'tuple' object is not callable"
     ]
    }
   ],
   "source": [
    "list1=[1,2,3]\n",
    "tuple=tuple(list1)"
   ]
  },
  {
   "cell_type": "markdown",
   "metadata": {},
   "source": [
    "# Python Dictionary"
   ]
  },
  {
   "cell_type": "markdown",
   "metadata": {},
   "source": [
    "### Dictinaries are enclosed by {} and values can be assigned and accessed using []"
   ]
  },
  {
   "cell_type": "code",
   "execution_count": 6,
   "metadata": {},
   "outputs": [
    {
     "name": "stdout",
     "output_type": "stream",
     "text": [
      "{'one': 'This is one', 2: 'This is two'}\n",
      "This is one\n",
      "This is two\n",
      "{'name': 'RAM', 'code': '8989', 'dept': 'IT'}\n",
      "dict_keys(['name', 'code', 'dept'])\n",
      "dict_values(['RAM', '8989', 'IT'])\n"
     ]
    }
   ],
   "source": [
    "dict= {}\n",
    "dict['one'] = \"This is one\"\n",
    "dict[2] = \"This is two\"\n",
    "print(dict)\n",
    "tinydict= {'name': 'RAM','code':'8989', 'dept': 'IT'}\n",
    "print(dict['one']) # Prints value for 'one' key\n",
    "print(dict[2]) # Prints value for 2 key\n",
    "print(tinydict) # Prints complete dictionary\n",
    "print(tinydict.keys()) # Prints all the keys\n",
    "print(tinydict.values()) # Prints all the values"
   ]
  },
  {
   "cell_type": "markdown",
   "metadata": {},
   "source": [
    "# Python Sets"
   ]
  },
  {
   "cell_type": "markdown",
   "metadata": {},
   "source": [
    "### Set is an ordered and unordered collection of unique items.\n",
    "### Set is defined by values separated by comma inside {}"
   ]
  },
  {
   "cell_type": "code",
   "execution_count": 7,
   "metadata": {},
   "outputs": [
    {
     "name": "stdout",
     "output_type": "stream",
     "text": [
      "a =  {1, 2, 3, 4, 5}\n",
      "<class 'set'>\n"
     ]
    }
   ],
   "source": [
    "a = {5,5,5,5,2,3,1,4} # printing set variable\n",
    "print(\"a = \", a)\n",
    "print(type(a)) # data type of variable a"
   ]
  },
  {
   "cell_type": "markdown",
   "metadata": {},
   "source": [
    "# Python Operators\n",
    "\n",
    "### Operators are used to perform operations on variables and values.\n",
    "<h3><ul>\n",
    "        <li>Arithmetic Operators</li>\n",
    "        <li>Assignment Operators</li>\n",
    "        <li>Comparison Operators</li>\n",
    "        <li>Logical Operators</li>\n",
    "        <li>Identity Operators</li>\n",
    "        <li>Membership Operators</li>\n",
    "        <li>Bitwise Operators</li>\n",
    "    </ul></h3>\n",
    "        "
   ]
  },
  {
   "cell_type": "markdown",
   "metadata": {},
   "source": [
    "# Arithmetic Operators\n",
    "<h3><ul>\n",
    "    <li> + - * / % </li>\n",
    "    <li> ** ->Exponentiation </li>\n",
    "    <li> // ->Floor Division </li>\n",
    "    </ul>\n",
    "</h3>"
   ]
  },
  {
   "cell_type": "code",
   "execution_count": 8,
   "metadata": {},
   "outputs": [
    {
     "name": "stdout",
     "output_type": "stream",
     "text": [
      "15\n",
      "3\n",
      "2.0\n",
      "3125\n"
     ]
    }
   ],
   "source": [
    "a=5\n",
    "b=3\n",
    "print(a*b)\n",
    "print(11//3)\n",
    "print(5//2.0)\n",
    "print(5**5)"
   ]
  },
  {
   "cell_type": "markdown",
   "metadata": {},
   "source": [
    "# Comparision Operators/Relational Operators\n",
    "### It either returns True of False according to the condition."
   ]
  },
  {
   "cell_type": "code",
   "execution_count": 9,
   "metadata": {},
   "outputs": [
    {
     "name": "stdout",
     "output_type": "stream",
     "text": [
      "x > y is False\n",
      "x < y is True\n",
      "x == y is False\n",
      "x != y is True\n",
      "x >= y is False\n",
      "x <= y is True\n"
     ]
    }
   ],
   "source": [
    "x = 10\n",
    "y = 12\n",
    "print('x > y is',x>y)\n",
    "print('x < y is',x<y)\n",
    "print('x == y is',x==y)\n",
    "print('x != y is',x!=y)\n",
    "print('x >= y is',x>=y)\n",
    "print('x <= y is',x<=y)"
   ]
  },
  {
   "cell_type": "markdown",
   "metadata": {},
   "source": [
    "# Assignment Operators"
   ]
  },
  {
   "cell_type": "code",
   "execution_count": 10,
   "metadata": {},
   "outputs": [
    {
     "name": "stdout",
     "output_type": "stream",
     "text": [
      "5\n",
      "10\n"
     ]
    }
   ],
   "source": [
    "x=5\n",
    "print(x)\n",
    "x=x+5\n",
    "print(x)"
   ]
  },
  {
   "cell_type": "markdown",
   "metadata": {},
   "source": [
    "# Logical Operators"
   ]
  },
  {
   "cell_type": "code",
   "execution_count": 11,
   "metadata": {},
   "outputs": [
    {
     "name": "stdout",
     "output_type": "stream",
     "text": [
      "x and y is False\n",
      "x or y is True\n",
      "not x is False\n"
     ]
    }
   ],
   "source": [
    "x = True\n",
    "y = False\n",
    "# Output: x and y is False\n",
    "print('x and y is',x and y)\n",
    "# Output: x or y is True\n",
    "print('x or y is',x or y)\n",
    "# Output: not x is False\n",
    "print('not x is',not x)"
   ]
  },
  {
   "cell_type": "markdown",
   "metadata": {},
   "source": [
    "# Identity Operators\n",
    "### is and isnot are the identity operators in python .They are used to check if two values or variables are located on the same part of the memory. Two variables that are equal does not imply that the are identical."
   ]
  },
  {
   "cell_type": "code",
   "execution_count": 12,
   "metadata": {},
   "outputs": [
    {
     "name": "stdout",
     "output_type": "stream",
     "text": [
      "False\n",
      "True\n",
      "False\n",
      "140718287397392\n",
      "140718287397392\n",
      "140718287397392\n",
      "2372512077488\n",
      "2372512077488\n",
      "2372512077488\n",
      "2372513829640\n",
      "2372513829576\n"
     ]
    }
   ],
   "source": [
    "x1 = 5\n",
    "y1 = 5\n",
    "x2 = 'Hello'\n",
    "y2 = 'Hello'\n",
    "x3 = [1,2,3]\n",
    "y3 = [1,2,3]\n",
    "print(x1 is not y1) # Output: False\n",
    "print(x2 is y2) # Output: True\n",
    "print(x3 is y3) # Output: False\n",
    "print(id(x1))\n",
    "print(id(y1))\n",
    "print(id(5))\n",
    "print(id('Hello'))\n",
    "print(id(x2))\n",
    "print(id(y2))\n",
    "print(id(x3))\n",
    "print(id(y3))"
   ]
  },
  {
   "cell_type": "markdown",
   "metadata": {},
   "source": [
    "# Membership Operators\n",
    "### in and not in are the membership operators in Python.They are used to test whether a value or variable is found in a sequence.In a dictionary we can only test for presence of key,not the value."
   ]
  },
  {
   "cell_type": "code",
   "execution_count": 13,
   "metadata": {},
   "outputs": [
    {
     "name": "stdout",
     "output_type": "stream",
     "text": [
      "True\n",
      "True\n",
      "True\n",
      "False\n"
     ]
    }
   ],
   "source": [
    "x = 'Hello world'\n",
    "y = {1:'a',2:'b'}\n",
    "print('H' in x) # Output: True\n",
    "print('hello' not in x) # Output: True\n",
    "print(1 in y) # Output: True\n",
    "print('a' in y) # Output: False"
   ]
  },
  {
   "cell_type": "markdown",
   "metadata": {},
   "source": [
    "# Bitwise Operators"
   ]
  },
  {
   "cell_type": "code",
   "execution_count": 14,
   "metadata": {},
   "outputs": [
    {
     "name": "stdout",
     "output_type": "stream",
     "text": [
      "12\n",
      "61\n",
      "49\n",
      "-61\n",
      "240\n",
      "15\n"
     ]
    }
   ],
   "source": [
    "a = 60            # 60 = 0011 1100 \n",
    "b = 13            # 13 = 0000 1101 \n",
    "c = 0\n",
    "\n",
    "c = a & b;        # 12 = 0000 1100\n",
    "print(c)\n",
    "\n",
    "c = a | b;        # 61 = 0011 1101 \n",
    "print(c) \n",
    "\n",
    "c = a ^ b;        # 49 = 0011 0001\n",
    "print(c) \n",
    "\n",
    "c = ~a;           # -61 = 1100 0011\n",
    "print(c) \n",
    "\n",
    "c = a << 2;       # 240 = 1111 0000\n",
    "print(c) \n",
    "\n",
    "c = a >> 2;       # 15 = 0000 1111\n",
    "print(c)"
   ]
  },
  {
   "cell_type": "markdown",
   "metadata": {},
   "source": [
    "# Programs"
   ]
  },
  {
   "cell_type": "code",
   "execution_count": 15,
   "metadata": {},
   "outputs": [
    {
     "name": "stdout",
     "output_type": "stream",
     "text": [
      "The sum of 1.5 and 6.3 is 7.8\n"
     ]
    }
   ],
   "source": [
    "num1 = 1.5\n",
    "num2 = 6.3\n",
    "sum = float(num1) + float(num2)\n",
    "print('The sum of {0} and {1} is {2}'.format(num1, num2, sum))"
   ]
  },
  {
   "cell_type": "code",
   "execution_count": 18,
   "metadata": {},
   "outputs": [
    {
     "name": "stdout",
     "output_type": "stream",
     "text": [
      "Enter a number: 25\n",
      "The square root of 25.000 is 5.000\n"
     ]
    }
   ],
   "source": [
    "num= float(input('Enter a number: '))\n",
    "num_sqrt= num** 0.5\n",
    "print('The square root of %0.3f is %0.3f'%(num,num_sqrt))"
   ]
  },
  {
   "cell_type": "code",
   "execution_count": 17,
   "metadata": {},
   "outputs": [
    {
     "name": "stdout",
     "output_type": "stream",
     "text": [
      "Enter a: 2\n",
      "Enter b: 1\n",
      "Enter c: 2\n",
      "The solution are (-0.25-0.9682458365518543j) and (-0.25+0.9682458365518543j)\n"
     ]
    }
   ],
   "source": [
    "# Solve the quadratic equation ax**2 + bx+ c = 0\n",
    "import cmath\n",
    "a = float(input('Enter a: '))\n",
    "b = float(input('Enter b: '))\n",
    "c = float(input('Enter c: '))\n",
    "d = (b**2) -(4*a*c)\n",
    "sol1 = (-b-cmath.sqrt(d))/(2*a)\n",
    "sol2 = (-b+cmath.sqrt(d))/(2*a)\n",
    "print('The solution are {0} and {1}'.format(sol1,sol2))"
   ]
  },
  {
   "cell_type": "code",
   "execution_count": 19,
   "metadata": {},
   "outputs": [
    {
     "name": "stdout",
     "output_type": "stream",
     "text": [
      "4\n",
      "[4 3 1 8]\n",
      "[1, 7, 5, 0]\n"
     ]
    }
   ],
   "source": [
    "import random\n",
    "import numpy\n",
    "print(random.randint(0,9))\n",
    "print(numpy.random.randint(0,9,size=4))\n",
    "print(random.sample(range(9),4)) # Unique values"
   ]
  },
  {
   "cell_type": "code",
   "execution_count": null,
   "metadata": {},
   "outputs": [],
   "source": []
  }
 ],
 "metadata": {
  "kernelspec": {
   "display_name": "Python 3",
   "language": "python",
   "name": "python3"
  },
  "language_info": {
   "codemirror_mode": {
    "name": "ipython",
    "version": 3
   },
   "file_extension": ".py",
   "mimetype": "text/x-python",
   "name": "python",
   "nbconvert_exporter": "python",
   "pygments_lexer": "ipython3",
   "version": "3.7.6"
  }
 },
 "nbformat": 4,
 "nbformat_minor": 4
}
